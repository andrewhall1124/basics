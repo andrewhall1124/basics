{
 "cells": [
  {
   "cell_type": "code",
   "execution_count": 5,
   "metadata": {},
   "outputs": [],
   "source": [
    "import numpy as np \n",
    "import yfinance as yf"
   ]
  },
  {
   "cell_type": "markdown",
   "metadata": {},
   "source": [
    "### Generate example data"
   ]
  },
  {
   "cell_type": "code",
   "execution_count": 6,
   "metadata": {},
   "outputs": [
    {
     "name": "stderr",
     "output_type": "stream",
     "text": [
      "[*********************100%***********************]  4 of 4 completed\n"
     ]
    },
    {
     "data": {
      "text/html": [
       "<div>\n",
       "<style scoped>\n",
       "    .dataframe tbody tr th:only-of-type {\n",
       "        vertical-align: middle;\n",
       "    }\n",
       "\n",
       "    .dataframe tbody tr th {\n",
       "        vertical-align: top;\n",
       "    }\n",
       "\n",
       "    .dataframe thead th {\n",
       "        text-align: right;\n",
       "    }\n",
       "</style>\n",
       "<table border=\"1\" class=\"dataframe\">\n",
       "  <thead>\n",
       "    <tr style=\"text-align: right;\">\n",
       "      <th>Ticker</th>\n",
       "      <th>AAPL</th>\n",
       "      <th>F</th>\n",
       "      <th>KO</th>\n",
       "      <th>VZ</th>\n",
       "    </tr>\n",
       "    <tr>\n",
       "      <th>Date</th>\n",
       "      <th></th>\n",
       "      <th></th>\n",
       "      <th></th>\n",
       "      <th></th>\n",
       "    </tr>\n",
       "  </thead>\n",
       "  <tbody>\n",
       "    <tr>\n",
       "      <th>2023-01-03 00:00:00+00:00</th>\n",
       "      <td>123.768463</td>\n",
       "      <td>9.878720</td>\n",
       "      <td>59.665287</td>\n",
       "      <td>35.039959</td>\n",
       "    </tr>\n",
       "    <tr>\n",
       "      <th>2023-01-04 00:00:00+00:00</th>\n",
       "      <td>125.045029</td>\n",
       "      <td>10.157829</td>\n",
       "      <td>59.636856</td>\n",
       "      <td>35.922073</td>\n",
       "    </tr>\n",
       "    <tr>\n",
       "      <th>2023-01-05 00:00:00+00:00</th>\n",
       "      <td>123.718971</td>\n",
       "      <td>10.360816</td>\n",
       "      <td>58.954426</td>\n",
       "      <td>36.419891</td>\n",
       "    </tr>\n",
       "    <tr>\n",
       "      <th>2023-01-06 00:00:00+00:00</th>\n",
       "      <td>128.271103</td>\n",
       "      <td>10.639923</td>\n",
       "      <td>60.091812</td>\n",
       "      <td>36.847847</td>\n",
       "    </tr>\n",
       "    <tr>\n",
       "      <th>2023-01-09 00:00:00+00:00</th>\n",
       "      <td>128.795593</td>\n",
       "      <td>10.732961</td>\n",
       "      <td>59.343029</td>\n",
       "      <td>36.699703</td>\n",
       "    </tr>\n",
       "  </tbody>\n",
       "</table>\n",
       "</div>"
      ],
      "text/plain": [
       "Ticker                           AAPL          F         KO         VZ\n",
       "Date                                                                  \n",
       "2023-01-03 00:00:00+00:00  123.768463   9.878720  59.665287  35.039959\n",
       "2023-01-04 00:00:00+00:00  125.045029  10.157829  59.636856  35.922073\n",
       "2023-01-05 00:00:00+00:00  123.718971  10.360816  58.954426  36.419891\n",
       "2023-01-06 00:00:00+00:00  128.271103  10.639923  60.091812  36.847847\n",
       "2023-01-09 00:00:00+00:00  128.795593  10.732961  59.343029  36.699703"
      ]
     },
     "execution_count": 6,
     "metadata": {},
     "output_type": "execute_result"
    }
   ],
   "source": [
    "# Pull 1 years worth of dailiy price data for 4 stocks from yahoo finance\n",
    "tickers = sorted(['AAPL', 'F', 'VZ', 'KO'])\n",
    "start = '2023-01-01'\n",
    "end = '2023-12-31'\n",
    "\n",
    "data = yf.download(tickers, start, end, )\n",
    "\n",
    "prices = data['Adj Close']\n",
    "\n",
    "prices.head()"
   ]
  },
  {
   "cell_type": "code",
   "execution_count": 7,
   "metadata": {},
   "outputs": [
    {
     "data": {
      "text/html": [
       "<div>\n",
       "<style scoped>\n",
       "    .dataframe tbody tr th:only-of-type {\n",
       "        vertical-align: middle;\n",
       "    }\n",
       "\n",
       "    .dataframe tbody tr th {\n",
       "        vertical-align: top;\n",
       "    }\n",
       "\n",
       "    .dataframe thead th {\n",
       "        text-align: right;\n",
       "    }\n",
       "</style>\n",
       "<table border=\"1\" class=\"dataframe\">\n",
       "  <thead>\n",
       "    <tr style=\"text-align: right;\">\n",
       "      <th>Ticker</th>\n",
       "      <th>AAPL</th>\n",
       "      <th>F</th>\n",
       "      <th>KO</th>\n",
       "      <th>VZ</th>\n",
       "    </tr>\n",
       "    <tr>\n",
       "      <th>Date</th>\n",
       "      <th></th>\n",
       "      <th></th>\n",
       "      <th></th>\n",
       "      <th></th>\n",
       "    </tr>\n",
       "  </thead>\n",
       "  <tbody>\n",
       "    <tr>\n",
       "      <th>2023-01-03 00:00:00+00:00</th>\n",
       "      <td>NaN</td>\n",
       "      <td>NaN</td>\n",
       "      <td>NaN</td>\n",
       "      <td>NaN</td>\n",
       "    </tr>\n",
       "    <tr>\n",
       "      <th>2023-01-04 00:00:00+00:00</th>\n",
       "      <td>0.010314</td>\n",
       "      <td>0.028254</td>\n",
       "      <td>-0.000477</td>\n",
       "      <td>0.025175</td>\n",
       "    </tr>\n",
       "    <tr>\n",
       "      <th>2023-01-05 00:00:00+00:00</th>\n",
       "      <td>-0.010605</td>\n",
       "      <td>0.019983</td>\n",
       "      <td>-0.011443</td>\n",
       "      <td>0.013858</td>\n",
       "    </tr>\n",
       "    <tr>\n",
       "      <th>2023-01-06 00:00:00+00:00</th>\n",
       "      <td>0.036794</td>\n",
       "      <td>0.026939</td>\n",
       "      <td>0.019293</td>\n",
       "      <td>0.011751</td>\n",
       "    </tr>\n",
       "    <tr>\n",
       "      <th>2023-01-09 00:00:00+00:00</th>\n",
       "      <td>0.004089</td>\n",
       "      <td>0.008744</td>\n",
       "      <td>-0.012461</td>\n",
       "      <td>-0.004020</td>\n",
       "    </tr>\n",
       "  </tbody>\n",
       "</table>\n",
       "</div>"
      ],
      "text/plain": [
       "Ticker                         AAPL         F        KO        VZ\n",
       "Date                                                             \n",
       "2023-01-03 00:00:00+00:00       NaN       NaN       NaN       NaN\n",
       "2023-01-04 00:00:00+00:00  0.010314  0.028254 -0.000477  0.025175\n",
       "2023-01-05 00:00:00+00:00 -0.010605  0.019983 -0.011443  0.013858\n",
       "2023-01-06 00:00:00+00:00  0.036794  0.026939  0.019293  0.011751\n",
       "2023-01-09 00:00:00+00:00  0.004089  0.008744 -0.012461 -0.004020"
      ]
     },
     "execution_count": 7,
     "metadata": {},
     "output_type": "execute_result"
    }
   ],
   "source": [
    "# Turn the raw price data into a daily returns dataframe\n",
    "returns = prices.pct_change()\n",
    "returns.head()"
   ]
  },
  {
   "cell_type": "code",
   "execution_count": 8,
   "metadata": {},
   "outputs": [
    {
     "data": {
      "text/html": [
       "<div>\n",
       "<style scoped>\n",
       "    .dataframe tbody tr th:only-of-type {\n",
       "        vertical-align: middle;\n",
       "    }\n",
       "\n",
       "    .dataframe tbody tr th {\n",
       "        vertical-align: top;\n",
       "    }\n",
       "\n",
       "    .dataframe thead th {\n",
       "        text-align: right;\n",
       "    }\n",
       "</style>\n",
       "<table border=\"1\" class=\"dataframe\">\n",
       "  <thead>\n",
       "    <tr style=\"text-align: right;\">\n",
       "      <th></th>\n",
       "      <th>Ticker</th>\n",
       "      <th>E[r]</th>\n",
       "    </tr>\n",
       "  </thead>\n",
       "  <tbody>\n",
       "    <tr>\n",
       "      <th>0</th>\n",
       "      <td>AAPL</td>\n",
       "      <td>0.001835</td>\n",
       "    </tr>\n",
       "    <tr>\n",
       "      <th>1</th>\n",
       "      <td>F</td>\n",
       "      <td>0.000822</td>\n",
       "    </tr>\n",
       "    <tr>\n",
       "      <th>2</th>\n",
       "      <td>KO</td>\n",
       "      <td>-0.000104</td>\n",
       "    </tr>\n",
       "    <tr>\n",
       "      <th>3</th>\n",
       "      <td>VZ</td>\n",
       "      <td>0.000138</td>\n",
       "    </tr>\n",
       "  </tbody>\n",
       "</table>\n",
       "</div>"
      ],
      "text/plain": [
       "  Ticker      E[r]\n",
       "0   AAPL  0.001835\n",
       "1      F  0.000822\n",
       "2     KO -0.000104\n",
       "3     VZ  0.000138"
      ]
     },
     "execution_count": 8,
     "metadata": {},
     "output_type": "execute_result"
    }
   ],
   "source": [
    "# Take the average historical return as a expected return vector for testing\n",
    "# In practice this vector would be computed with signal research\n",
    "expected_returns = returns.mean()\n",
    "\n",
    "expected_returns.reset_index().rename(columns={0: 'E[r]'})"
   ]
  },
  {
   "cell_type": "code",
   "execution_count": 9,
   "metadata": {},
   "outputs": [
    {
     "data": {
      "text/html": [
       "<div>\n",
       "<style scoped>\n",
       "    .dataframe tbody tr th:only-of-type {\n",
       "        vertical-align: middle;\n",
       "    }\n",
       "\n",
       "    .dataframe tbody tr th {\n",
       "        vertical-align: top;\n",
       "    }\n",
       "\n",
       "    .dataframe thead th {\n",
       "        text-align: right;\n",
       "    }\n",
       "</style>\n",
       "<table border=\"1\" class=\"dataframe\">\n",
       "  <thead>\n",
       "    <tr style=\"text-align: right;\">\n",
       "      <th>Ticker</th>\n",
       "      <th>AAPL</th>\n",
       "      <th>F</th>\n",
       "      <th>KO</th>\n",
       "      <th>VZ</th>\n",
       "    </tr>\n",
       "    <tr>\n",
       "      <th>Ticker</th>\n",
       "      <th></th>\n",
       "      <th></th>\n",
       "      <th></th>\n",
       "      <th></th>\n",
       "    </tr>\n",
       "  </thead>\n",
       "  <tbody>\n",
       "    <tr>\n",
       "      <th>AAPL</th>\n",
       "      <td>0.000158</td>\n",
       "      <td>0.000068</td>\n",
       "      <td>0.000021</td>\n",
       "      <td>0.000028</td>\n",
       "    </tr>\n",
       "    <tr>\n",
       "      <th>F</th>\n",
       "      <td>0.000068</td>\n",
       "      <td>0.000495</td>\n",
       "      <td>0.000021</td>\n",
       "      <td>0.000076</td>\n",
       "    </tr>\n",
       "    <tr>\n",
       "      <th>KO</th>\n",
       "      <td>0.000021</td>\n",
       "      <td>0.000021</td>\n",
       "      <td>0.000072</td>\n",
       "      <td>0.000036</td>\n",
       "    </tr>\n",
       "    <tr>\n",
       "      <th>VZ</th>\n",
       "      <td>0.000028</td>\n",
       "      <td>0.000076</td>\n",
       "      <td>0.000036</td>\n",
       "      <td>0.000209</td>\n",
       "    </tr>\n",
       "  </tbody>\n",
       "</table>\n",
       "</div>"
      ],
      "text/plain": [
       "Ticker      AAPL         F        KO        VZ\n",
       "Ticker                                        \n",
       "AAPL    0.000158  0.000068  0.000021  0.000028\n",
       "F       0.000068  0.000495  0.000021  0.000076\n",
       "KO      0.000021  0.000021  0.000072  0.000036\n",
       "VZ      0.000028  0.000076  0.000036  0.000209"
      ]
     },
     "execution_count": 9,
     "metadata": {},
     "output_type": "execute_result"
    }
   ],
   "source": [
    "# Take the historical convariance matrix of the returns dataframe\n",
    "# In practice this matrix would be forecasted with signal research\n",
    "covariance_matrix = returns.cov()\n",
    "\n",
    "covariance_matrix"
   ]
  },
  {
   "cell_type": "code",
   "execution_count": 10,
   "metadata": {},
   "outputs": [
    {
     "data": {
      "text/plain": [
       "array([0.25, 0.25, 0.25, 0.25])"
      ]
     },
     "execution_count": 10,
     "metadata": {},
     "output_type": "execute_result"
    }
   ],
   "source": [
    "# For this example we will use an equal weight scheme\n",
    "# In practice this is determined by a portfolio optimization algorithm\n",
    "weights = np.ones(len(tickers)) / len(tickers)\n",
    "\n",
    "weights"
   ]
  },
  {
   "cell_type": "markdown",
   "metadata": {},
   "source": [
    "### Portfolio Metrics"
   ]
  },
  {
   "cell_type": "code",
   "execution_count": 11,
   "metadata": {},
   "outputs": [
    {
     "data": {
      "text/plain": [
       "'0.07%'"
      ]
     },
     "execution_count": 11,
     "metadata": {},
     "output_type": "execute_result"
    }
   ],
   "source": [
    "# Portfolio return\n",
    "portfolio_return = weights.T @ expected_returns\n",
    "\n",
    "f\"{round(portfolio_return*100,2)}%\""
   ]
  },
  {
   "cell_type": "code",
   "execution_count": 12,
   "metadata": {},
   "outputs": [
    {
     "data": {
      "text/plain": [
       "'0.95%'"
      ]
     },
     "execution_count": 12,
     "metadata": {},
     "output_type": "execute_result"
    }
   ],
   "source": [
    "# Portfolio volatility\n",
    "portfolio_volatility = np.sqrt(weights.T @ covariance_matrix @ weights)\n",
    "\n",
    "f\"{round(portfolio_volatility*100,2)}%\""
   ]
  },
  {
   "cell_type": "code",
   "execution_count": 13,
   "metadata": {},
   "outputs": [
    {
     "data": {
      "text/plain": [
       "'0.07'"
      ]
     },
     "execution_count": 13,
     "metadata": {},
     "output_type": "execute_result"
    }
   ],
   "source": [
    "# Portfolio sharpe\n",
    "portfolio_sharpe = portfolio_return / portfolio_volatility\n",
    "\n",
    "f\"{round(portfolio_sharpe,2)}\""
   ]
  },
  {
   "cell_type": "markdown",
   "metadata": {},
   "source": [
    "### Annualized metrics"
   ]
  },
  {
   "cell_type": "code",
   "execution_count": 14,
   "metadata": {},
   "outputs": [],
   "source": [
    "# Annualize\n",
    "TRADING_DAYS = 252"
   ]
  },
  {
   "cell_type": "code",
   "execution_count": 15,
   "metadata": {},
   "outputs": [
    {
     "data": {
      "text/plain": [
       "'16.95%'"
      ]
     },
     "execution_count": 15,
     "metadata": {},
     "output_type": "execute_result"
    }
   ],
   "source": [
    "# Annual portfolio return\n",
    "annual_portfolio_return = portfolio_return * TRADING_DAYS\n",
    "\n",
    "f\"{round(annual_portfolio_return*100,2)}%\""
   ]
  },
  {
   "cell_type": "code",
   "execution_count": 16,
   "metadata": {},
   "outputs": [
    {
     "data": {
      "text/plain": [
       "'15.04%'"
      ]
     },
     "execution_count": 16,
     "metadata": {},
     "output_type": "execute_result"
    }
   ],
   "source": [
    "# Annual portfolio volatility\n",
    "annual_portfolio_volatility = portfolio_volatility * np.sqrt(TRADING_DAYS)\n",
    "\n",
    "f\"{round(annual_portfolio_volatility*100,2)}%\""
   ]
  },
  {
   "cell_type": "code",
   "execution_count": 17,
   "metadata": {},
   "outputs": [
    {
     "data": {
      "text/plain": [
       "'1.13'"
      ]
     },
     "execution_count": 17,
     "metadata": {},
     "output_type": "execute_result"
    }
   ],
   "source": [
    "# Annual portfolio sharpe\n",
    "annual_portfolio_sharpe = annual_portfolio_return / annual_portfolio_volatility\n",
    "\n",
    "f\"{round(annual_portfolio_sharpe,2)}\""
   ]
  },
  {
   "cell_type": "code",
   "execution_count": null,
   "metadata": {},
   "outputs": [],
   "source": []
  }
 ],
 "metadata": {
  "kernelspec": {
   "display_name": ".venv",
   "language": "python",
   "name": "python3"
  },
  "language_info": {
   "codemirror_mode": {
    "name": "ipython",
    "version": 3
   },
   "file_extension": ".py",
   "mimetype": "text/x-python",
   "name": "python",
   "nbconvert_exporter": "python",
   "pygments_lexer": "ipython3",
   "version": "3.12.4"
  }
 },
 "nbformat": 4,
 "nbformat_minor": 2
}
